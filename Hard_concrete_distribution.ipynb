{
 "cells": [
  {
   "cell_type": "markdown",
   "source": [
    "# The hard-concrete distribution "
   ],
   "metadata": {
    "collapsed": false
   },
   "id": "c0b9d6d7ba4f5a26"
  },
  {
   "cell_type": "code",
   "source": [
    "import matplotlib.pyplot as plt\n",
    "import torch\n",
    "import torch.nn.functional as F\n",
    "from torch.autograd import Variable\n",
    "from torch.nn.parameter import Parameter\n",
    "import math"
   ],
   "metadata": {
    "collapsed": false,
    "ExecuteTime": {
     "end_time": "2024-05-22T15:03:42.325381Z",
     "start_time": "2024-05-22T15:03:41.258072Z"
    }
   },
   "id": "ef6abd3afd67ad03",
   "outputs": [],
   "execution_count": 2
  },
  {
   "cell_type": "code",
   "source": [
    "in_features = 1\n",
    "limit_a, limit_b, epsilon = -.1, 1.1, 1e-6\n",
    "droprate_init = 0.5\n",
    "logalpha = Parameter(torch.Tensor(in_features))\n",
    "logalpha.data.normal_(math.log(1 - droprate_init) - math.log(droprate_init), 1e-2)\n",
    "print(logalpha)\n",
    "beta = 2./3.\n",
    "\n",
    "def quantile_concrete(x):\n",
    "    \"\"\"Implements the quantile, aka inverse CDF, of the 'stretched' concrete distribution\"\"\"\n",
    "    y = torch.sigmoid((torch.log(x) - torch.log(1 - x) + logalpha) / beta)\n",
    "    return y * (limit_b - limit_a) + limit_a\n",
    "\n",
    "def get_eps(size):\n",
    "    \"\"\"Uniform random numbers for the concrete distribution\"\"\"\n",
    "    eps = torch.FloatTensor(size).uniform_(epsilon, 1-epsilon)\n",
    "    eps = Variable(eps)\n",
    "    return eps\n",
    "\n",
    "def sample_z(batch_size, sample=True):\n",
    "    \"\"\"Sample the hard-concrete gates for training and use a deterministic value for testing\"\"\"\n",
    "    if sample:\n",
    "        eps = get_eps(torch.FloatTensor(batch_size, in_features))\n",
    "        z = quantile_concrete(eps)\n",
    "        return F.hardtanh(z, min_val=0, max_val=1)\n",
    "    else:  # mode\n",
    "        pi = F.sigmoid(logalpha).view(1, in_features).expand(batch_size, in_features)\n",
    "        return F.hardtanh(pi * (limit_b - limit_a) + limit_a, min_val=0, max_val=1)"
   ],
   "metadata": {
    "collapsed": false,
    "ExecuteTime": {
     "end_time": "2024-05-22T15:03:44.390165Z",
     "start_time": "2024-05-22T15:03:44.383713Z"
    }
   },
   "id": "3765da21ef453ed4",
   "outputs": [
    {
     "name": "stdout",
     "output_type": "stream",
     "text": [
      "Parameter containing:\n",
      "tensor([0.0041], requires_grad=True)\n"
     ]
    }
   ],
   "execution_count": 3
  },
  {
   "metadata": {
    "ExecuteTime": {
     "end_time": "2024-05-22T15:03:48.145467Z",
     "start_time": "2024-05-22T15:03:48.141297Z"
    }
   },
   "cell_type": "code",
   "source": [
    "z = sample_z(1, sample=True)\n",
    "print(z)"
   ],
   "id": "db25d639a4ae1210",
   "outputs": [
    {
     "name": "stdout",
     "output_type": "stream",
     "text": [
      "tensor([[0.1225]], grad_fn=<HardtanhBackward0>)\n"
     ]
    }
   ],
   "execution_count": 4
  },
  {
   "metadata": {
    "ExecuteTime": {
     "end_time": "2024-05-22T15:04:28.013541Z",
     "start_time": "2024-05-22T15:04:27.942743Z"
    }
   },
   "cell_type": "code",
   "source": [
    "sweep = torch.arange(0, 1.01, step=0.01)\n",
    "print(sweep)\n",
    "eps = get_eps(size=100)\n",
    "\n",
    "dist = quantile_concrete(sweep)\n",
    "dist = F.hardtanh(dist, min_val=0, max_val=1)\n",
    "\n",
    "dist_eps = quantile_concrete(eps)\n",
    "dist_eps = F.hardtanh(dist_eps, min_val=0, max_val=1)\n",
    "\n",
    "print(dist)\n",
    "plt.plot(sweep.detach().numpy(), dist.detach().numpy())\n",
    "plt.scatter(eps.detach().numpy(), dist_eps.detach().numpy(), color='orange')"
   ],
   "id": "a06ba5bd77dcc749",
   "outputs": [
    {
     "name": "stdout",
     "output_type": "stream",
     "text": [
      "tensor([0.0000, 0.0100, 0.0200, 0.0300, 0.0400, 0.0500, 0.0600, 0.0700, 0.0800,\n",
      "        0.0900, 0.1000, 0.1100, 0.1200, 0.1300, 0.1400, 0.1500, 0.1600, 0.1700,\n",
      "        0.1800, 0.1900, 0.2000, 0.2100, 0.2200, 0.2300, 0.2400, 0.2500, 0.2600,\n",
      "        0.2700, 0.2800, 0.2900, 0.3000, 0.3100, 0.3200, 0.3300, 0.3400, 0.3500,\n",
      "        0.3600, 0.3700, 0.3800, 0.3900, 0.4000, 0.4100, 0.4200, 0.4300, 0.4400,\n",
      "        0.4500, 0.4600, 0.4700, 0.4800, 0.4900, 0.5000, 0.5100, 0.5200, 0.5300,\n",
      "        0.5400, 0.5500, 0.5600, 0.5700, 0.5800, 0.5900, 0.6000, 0.6100, 0.6200,\n",
      "        0.6300, 0.6400, 0.6500, 0.6600, 0.6700, 0.6800, 0.6900, 0.7000, 0.7100,\n",
      "        0.7200, 0.7300, 0.7400, 0.7500, 0.7600, 0.7700, 0.7800, 0.7900, 0.8000,\n",
      "        0.8100, 0.8200, 0.8300, 0.8400, 0.8500, 0.8600, 0.8700, 0.8800, 0.8900,\n",
      "        0.9000, 0.9100, 0.9200, 0.9300, 0.9400, 0.9500, 0.9600, 0.9700, 0.9800,\n",
      "        0.9900, 1.0000])\n",
      "tensor([0.0000, 0.0000, 0.0000, 0.0000, 0.0000, 0.0000, 0.0000, 0.0000, 0.0000,\n",
      "        0.0000, 0.0000, 0.0000, 0.0000, 0.0000, 0.0000, 0.0000, 0.0000, 0.0024,\n",
      "        0.0125, 0.0231, 0.0341, 0.0454, 0.0572, 0.0693, 0.0818, 0.0947, 0.1079,\n",
      "        0.1215, 0.1354, 0.1496, 0.1642, 0.1790, 0.1942, 0.2096, 0.2254, 0.2413,\n",
      "        0.2576, 0.2740, 0.2907, 0.3076, 0.3246, 0.3419, 0.3593, 0.3768, 0.3944,\n",
      "        0.4122, 0.4300, 0.4479, 0.4658, 0.4838, 0.5018, 0.5198, 0.5378, 0.5557,\n",
      "        0.5736, 0.5914, 0.6091, 0.6267, 0.6442, 0.6615, 0.6787, 0.6957, 0.7125,\n",
      "        0.7291, 0.7455, 0.7616, 0.7775, 0.7931, 0.8085, 0.8236, 0.8383, 0.8528,\n",
      "        0.8669, 0.8807, 0.8942, 0.9073, 0.9201, 0.9325, 0.9445, 0.9561, 0.9674,\n",
      "        0.9782, 0.9887, 0.9988, 1.0000, 1.0000, 1.0000, 1.0000, 1.0000, 1.0000,\n",
      "        1.0000, 1.0000, 1.0000, 1.0000, 1.0000, 1.0000, 1.0000, 1.0000, 1.0000,\n",
      "        1.0000, 1.0000], grad_fn=<HardtanhBackward0>)\n"
     ]
    },
    {
     "data": {
      "text/plain": [
       "<matplotlib.collections.PathCollection at 0x737e8e7020e0>"
      ]
     },
     "execution_count": 7,
     "metadata": {},
     "output_type": "execute_result"
    },
    {
     "data": {
      "text/plain": [
       "<Figure size 640x480 with 1 Axes>"
      ],
      "image/png": "[encoded data removed]"
     },
     "metadata": {},
     "output_type": "display_data"
    }
   ],
   "execution_count": 7
  },
  {
   "metadata": {},
   "cell_type": "code",
   "outputs": [],
   "execution_count": null,
   "source": "",
   "id": "4cf1d91f087e1b46"
  }
 ],
 "metadata": {
  "kernelspec": {
   "display_name": "Python 3",
   "language": "python",
   "name": "python3"
  },
  "language_info": {
   "codemirror_mode": {
    "name": "ipython",
    "version": 2
   },
   "file_extension": ".py",
   "mimetype": "text/x-python",
   "name": "python",
   "nbconvert_exporter": "python",
   "pygments_lexer": "ipython2",
   "version": "2.7.6"
  }
 },
 "nbformat": 4,
 "nbformat_minor": 5
}
